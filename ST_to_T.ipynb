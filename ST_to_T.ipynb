{
 "cells": [
  {
   "cell_type": "code",
   "execution_count": 63,
   "metadata": {},
   "outputs": [],
   "source": [
    "from rank_bm25_K.rank_bm25 import BM25Plus\n",
    "\n",
    "import os\n",
    "\n",
    "from nltk.corpus import stopwords as pw\n",
    "import sys \n",
    "import re"
   ]
  },
  {
   "cell_type": "code",
   "execution_count": 64,
   "metadata": {},
   "outputs": [],
   "source": [
    "# 文本路径\n",
    "input_files = \"textures/\"\n",
    "# 储存文本路径\n",
    "texture_path = [] # 调试时注意清空\n",
    "# 储存文本相似度\n",
    "texture_score = [] # 调试时注意清空"
   ]
  },
  {
   "cell_type": "code",
   "execution_count": 65,
   "metadata": {},
   "outputs": [],
   "source": [
    "#读取停用词\n",
    "cacheStopWords=pw.words(\"english\")"
   ]
  },
  {
   "cell_type": "code",
   "execution_count": 66,
   "metadata": {},
   "outputs": [],
   "source": [
    "# 查询内容输入\n",
    "query_r = 'on the island and tree'\n",
    "query=''.join([word+\" \" for word in query_r.split() if word not in cacheStopWords])\n",
    "tokenized_query = query.split(\" \")"
   ]
  },
  {
   "cell_type": "code",
   "execution_count": 69,
   "metadata": {},
   "outputs": [
    {
     "name": "stdout",
     "output_type": "stream",
     "text": [
      "\n",
      "\n",
      "======================\n",
      "\n",
      "\n",
      "Query: on the island and tree\n",
      "\n",
      "Top 5 most similar textures:\n",
      "textures/C1.txt (Score: 7.8530)\n",
      "textures/C2.txt (Score: 4.3881)\n",
      "textures/C3.txt (Score: 4.1732)\n"
     ]
    }
   ],
   "source": [
    "# 查询\n",
    "\n",
    "#查询结果显示数量\n",
    "closest_n = 5\n",
    "#储存全部文本\n",
    "corpus = []\n",
    "\n",
    "\n",
    "# 循环文件夹\n",
    "for root,dirs,files in os.walk(input_files):\n",
    "    for file in files:\n",
    "        \n",
    "        # 获取路径\n",
    "        text_path = os.path.join(root,file)\n",
    "        #print(text_path)\n",
    "        \n",
    "        with open(text_path, \"r\", encoding='utf-8') as f:  # 打开文件\n",
    "            tmp_content = f.read()  # 读取文件\n",
    "        \n",
    "        corpus.append(tmp_content) # 注意是list\n",
    "        \n",
    "        texture_path.append(text_path)\n",
    "        \n",
    "tokenized_corpus = [doc.split(\" \") for doc in corpus]\n",
    "bm25 = BM25Plus(tokenized_corpus)\n",
    "doc_score = bm25.get_scores(tokenized_query)\n",
    "\n",
    "        \n",
    "#将结果保存\n",
    "texture_score = doc_score\n",
    "        \n",
    "results_t = zip(texture_path, texture_score)\n",
    "results_t = sorted(results_t, key=lambda x: x[1], reverse = True)#这里是降序\n",
    "\n",
    "print(\"\\n\\n======================\\n\\n\")\n",
    "print(\"Query:\", query_r)\n",
    "print(\"\\nTop 5 most similar textures:\")\n",
    "\n",
    "for path, distance in results_t[0:closest_n]:\n",
    "    print(path, \"(Score: %.4f)\" % distance)\n",
    "    #with open(path, \"r\", encoding='utf-8') as f:  # 打开文件\n",
    "        #tmp_content = f.read()  # 读取文件\n",
    "        #print(tmp_content)"
   ]
  },
  {
   "cell_type": "code",
   "execution_count": 70,
   "metadata": {},
   "outputs": [
    {
     "data": {
      "text/plain": [
       "[('textures/C1.txt', 7.85296856795172),\n",
       " ('textures/C2.txt', 4.38812585338516),\n",
       " ('textures/C3.txt', 4.173179795723117)]"
      ]
     },
     "execution_count": 70,
     "metadata": {},
     "output_type": "execute_result"
    }
   ],
   "source": [
    "results_t"
   ]
  },
  {
   "cell_type": "code",
   "execution_count": null,
   "metadata": {},
   "outputs": [],
   "source": []
  }
 ],
 "metadata": {
  "kernelspec": {
   "display_name": "Python 3",
   "language": "python",
   "name": "python3"
  },
  "language_info": {
   "codemirror_mode": {
    "name": "ipython",
    "version": 3
   },
   "file_extension": ".py",
   "mimetype": "text/x-python",
   "name": "python",
   "nbconvert_exporter": "python",
   "pygments_lexer": "ipython3",
   "version": "3.7.0"
  }
 },
 "nbformat": 4,
 "nbformat_minor": 2
}
